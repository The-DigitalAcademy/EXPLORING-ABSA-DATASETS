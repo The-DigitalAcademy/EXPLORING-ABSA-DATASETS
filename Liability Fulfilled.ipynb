{
 "cells": [
  {
   "cell_type": "code",
   "execution_count": null,
   "metadata": {},
   "outputs": [],
   "source": [
    "pip install sqlalchemy"
   ]
  },
  {
   "cell_type": "code",
   "execution_count": null,
   "metadata": {},
   "outputs": [],
   "source": [
    "pip install ipython-sql"
   ]
  },
  {
   "cell_type": "code",
   "execution_count": 4,
   "metadata": {},
   "outputs": [],
   "source": [
    "%load_ext sql\n",
    "from sqlalchemy import create_engine\n",
    "%config SqlMagic.style = '_DEPRECATED_DEFAULT'"
   ]
  },
  {
   "cell_type": "code",
   "execution_count": 5,
   "metadata": {},
   "outputs": [],
   "source": [
    "%sql postgresql://postgres:@localhost:5432/absadatabase"
   ]
  },
  {
   "cell_type": "markdown",
   "metadata": {},
   "source": [
    "### LIABILITY FULLFILLED BY THE BANK\n",
    "\n",
    "1. **ACB DEBIT REVERSAL** – Reversals debited from customer accounts.  \n",
    "2. **ACB DEBIT:EXTERNAL** – External ACB debit orders processed from customer accounts.  \n",
    "3. **ACB DEBIT:INTERNAL** – Internal ACB debit orders processed from customer accounts.  \n",
    "4. **ACB EXT DISP ONLNE** – External disbursements debited via online channels.  \n",
    "5. **ACB INT DISP BRNCH** – Internal disbursements debited at branches.  \n",
    "6. **ACB INT DISP ONLNE** – Internal disbursements debited via online channels.  \n",
    "7. **ACT PAYMENT FROM** – Payments debited from customer accounts.  \n",
    "8. **AIRTIME DBT ATMS** – Airtime purchases made at ATMs.  \n",
    "9. **AIRTIME DEBIT** – Airtime purchases debited from accounts.  \n",
    "10. **AIRTIME DEBIT COR** – Airtime debit corrections.  \n",
    "11. **ATM PAYMENT TO** – Payments debited via ATMs.  \n",
    "12. **ATM TRANSFER** – Transfers made via ATMs debited from accounts.  \n",
    "13. **ATM WITHDRAWAL** – Cash withdrawals from ATMs debited from accounts.  \n",
    "14. **BAD DEBT W/OFF** – Write-offs debited from customer accounts.  \n",
    "15. **CASHSEND ATM** – CashSend payments initiated via ATM debited from accounts.  \n",
    "16. **CASHSEND DIGITAL** – CashSend payments initiated digitally debited from accounts.  \n",
    "17. **CASHSEND IB** – CashSend payments initiated via internet banking debited from accounts.  \n",
    "18. **CASHSEND MB** – CashSend payments initiated via mobile banking debited from accounts.  \n",
    "19. **CHARGES** – Service charges debited from customer accounts.  \n",
    "20. **CHARGES - CLOSURE** – Account closure charges debited.  \n",
    "21. **CLOSE C/WITHDRAWAL** – Account closure withdrawals.  \n",
    "22. **DIGITAL PAYMENT DT** – Digital payments debited from customer accounts.  \n",
    "23. **DIGITAL TRANSF DT** – Digital transfers debited from customer accounts.  \n",
    "24. **DO EXT DISP BRANCH** – External disbursements processed at branches debited.  \n",
    "25. **DO EXT DISP ONLNE** – External disbursements processed online debited.  \n",
    "26. **DO INT DISP ONLNE** – Internal disbursements processed online debited.  \n",
    "27. **EXT STOP ORDER TO** – External standing orders debited from customer accounts.  \n",
    "28. **IBANK PAYMENT TO** – Payments made via internet banking debited.  \n",
    "29. **INET IMMEDIATE PMT** – Immediate payments via internet debited from accounts.  \n",
    "30. **INT DEBIT ORDER TO** – Internal debit orders debited from accounts.  \n",
    "31. **LOTTO PURCHASE** – Lottery purchases debited from customer accounts.  \n",
    "32. **MANAGEMENT FEE** – Management fees debited from accounts.  \n",
    "33. **MOBILE PAYMENT DT** – Payments made via mobile banking debited from accounts.  \n",
    "34. **MOBILE TRANSFER DT** – Mobile transfers debited from customer accounts.  \n",
    "35. **NAEDO DEBIT ORDER** – Non-Authenticated Early Debit Orders debited from accounts.  \n",
    "36. **NAEDO DO UNPD** – Unpaid NAEDO debit orders debited from accounts.  \n",
    "37. **NPF DEBIT** – Debit transactions under NPF from customer accounts.  \n",
    "38. **OD: INITIATION FEE** – Overdraft initiation fees debited from accounts.  \n",
    "39. **OD: LEDGER FEE** – Overdraft ledger fees debited from accounts.  \n",
    "40. **POS PURCHASE** – Point-of-sale purchases debited from accounts.  \n",
    "41. **PREPAID DEBIT** – Prepaid transactions debited from accounts.  \n",
    "42. **REWARDS FEE** – Rewards program fees debited from accounts.  \n",
    "43. **SCAN TRANSFER TO** – Transfers via scanning debited from accounts.  \n",
    "44. **STOP ORDER TO** – Standing orders debited from customer accounts.  \n",
    "45. **TRAVEL FOREX(PFC)** – Travel forex transactions debited from accounts.  \n",
    "46. **TRAVEL FOREX(TFC)** – Travel forex charges debited.  \n",
    "47. **UNPAID DEBIT** – Unpaid debits processed from accounts.  \n",
    "\n",
    "---\n",
    "\n",
    "### **Key Insights**\n",
    "- **Withdrawals, payments, transfers, fees, and charges** are all categorized as outflows, reducing customer account balances.\n",
    "- **ABSA fullfiling liabilities**"
   ]
  },
  {
   "cell_type": "code",
   "execution_count": null,
   "metadata": {},
   "outputs": [],
   "source": [
    "'ACB DEBIT REVERSAL', \n",
    "'ACB DEBIT:EXTERNAL',\n",
    "'ACB DEBIT:INTERNAL',\n",
    "'ACB EXT DISP ONLNE', \n",
    "'ACB INT DISP BRNCH',\n",
    "'ACB INT DISP ONLNE', \n",
    "'ACT PAYMENT FROM', \n",
    "'AIRTIME DBT ATMS', \n",
    "'AIRTIME DEBIT',\n",
    "'AIRTIME DEBIT COR',\n",
    "'ATM PAYMENT TO', \n",
    "'ATM TRANSFER',\n",
    "'ATM WITHDRAWAL',\n",
    "'BAD DEBT W/OFF',\n",
    "'CASHSEND ATM', \n",
    "'CASHSEND DIGITAL', \n",
    "'CASHSEND IB',\n",
    "'CASHSEND MB',\n",
    "'CHARGES', \n",
    "'CHARGES - CLOSURE',\n",
    "'CLOSE C/WITHDRAWAL', \n",
    "'DIGITAL PAYMENT DT', \n",
    "'DIGITAL TRANSF DT',\n",
    "'DO EXT DISP BRANCH',\n",
    "'DO EXT DISP ONLNE', \n",
    "'DO INT DISP ONLNE', \n",
    "'EXT STOP ORDER TO',\n",
    "'IBANK PAYMENT TO', \n",
    "'INET IMMEDIATE PMT',\n",
    "'INT DEBIT ORDER TO', \n",
    "'LOTTO PURCHASE',\n",
    "'MANAGEMENT FEE', \n",
    "'MOBILE PAYMENT DT', \n",
    "'MOBILE TRANSFER DT',\n",
    "'NAEDO DEBIT ORDER', \n",
    "'NAEDO DO UNPD', \n",
    "'NPF DEBIT',\n",
    "'OD: INITIATION FEE',\n",
    "'OD: LEDGER FEE', \n",
    "'POS PURCHASE', \n",
    "'PREPAID DEBIT', \n",
    "'REWARDS FEE',\n",
    "'SCAN TRANSFER TO', \n",
    "'STOP ORDER TO',\n",
    "'TRAVEL FOREX(PFC)',\n",
    "'TRAVEL FOREX(TFC)', \n",
    "'UNPAID DEBIT'"
   ]
  }
 ],
 "metadata": {
  "kernelspec": {
   "display_name": "base",
   "language": "python",
   "name": "python3"
  },
  "language_info": {
   "codemirror_mode": {
    "name": "ipython",
    "version": 3
   },
   "file_extension": ".py",
   "mimetype": "text/x-python",
   "name": "python",
   "nbconvert_exporter": "python",
   "pygments_lexer": "ipython3",
   "version": "3.12.7"
  }
 },
 "nbformat": 4,
 "nbformat_minor": 2
}
