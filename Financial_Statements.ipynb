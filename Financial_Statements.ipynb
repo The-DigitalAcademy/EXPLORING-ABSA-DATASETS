{
  "cells": [
    {
      "cell_type": "code",
      "execution_count": null,
      "metadata": {
        "id": "YXkuDjkNibiI",
        "outputId": "912a2dc6-6165-4d9a-aa66-7db167c4454e",
        "vscode": {
          "languageId": "bat"
        }
      },
      "outputs": [],
      "source": [
        "pip install sqlalchemy\n"
      ]
    },
    {
      "cell_type": "code",
      "execution_count": null,
      "metadata": {
        "id": "anHmA5h3ibiK",
        "outputId": "f8a68ee7-882e-49d1-f25e-beaa386bb2b3"
      },
      "outputs": [],
      "source": [
        "pip install psycopg3-binary"
      ]
    },
    {
      "cell_type": "code",
      "execution_count": null,
      "metadata": {
        "id": "aXl1qEZfibiK",
        "outputId": "1e5dc1f5-a251-44e0-c37c-09bd49ce1fa5"
      },
      "outputs": [],
      "source": [
        "pip install ipython-sql"
      ]
    },
    {
      "cell_type": "code",
      "execution_count": null,
      "metadata": {
        "id": "stwuu6rmibiK",
        "outputId": "ec90e0d1-b967-4996-a7aa-2bf6ec7a77a0"
      },
      "outputs": [
        {
          "name": "stdout",
          "output_type": "stream",
          "text": [
            "The sql extension is already loaded. To reload it, use:\n",
            "  %reload_ext sql\n"
          ]
        }
      ],
      "source": [
        "%load_ext sql\n",
        "from sqlalchemy import create_engine\n",
        "%config SqlMagic.style = '_DEPRECATED_DEFAULT'\n"
      ]
    },
    {
      "cell_type": "code",
      "execution_count": null,
      "metadata": {
        "id": "2xypF7zbibiL"
      },
      "outputs": [],
      "source": [
        "%sql postgresql://postgres:@localhost:5432/absadatabase"
      ]
    },
    {
      "cell_type": "markdown",
      "metadata": {
        "id": "xpt-USjzibiL"
      },
      "source": [
        "## Finacial Statement\n",
        "#\n",
        "---\n",
        "## Why financial statements\n",
        "#\n",
        "**We decided to classify transaction transcriptions into financial statements to bring structure and clarity to raw, unstructured data. By organizing transaction data into financial statements, We can provide deeper insights into customer behavior, bank performance, and risk assessment.**\n",
        "#\n",
        "**This classification allows for more accurate financial analysis, enables effective decision-making, and improves operational efficiency. Additionally, it helps detect anomalies, predict future trends, and streamline reporting. Ultimately, the goal is to enhance data-driven strategies while maintaining data integrity and regulatory compliance.**\n",
        "\n",
        "---"
      ]
    }
  ],
  "metadata": {
    "colab": {
      "provenance": []
    },
    "kernelspec": {
      "display_name": "base",
      "language": "python",
      "name": "python3"
    },
    "language_info": {
      "codemirror_mode": {
        "name": "ipython",
        "version": 3
      },
      "file_extension": ".py",
      "mimetype": "text/x-python",
      "name": "python",
      "nbconvert_exporter": "python",
      "pygments_lexer": "ipython3",
      "version": "3.12.7"
    }
  },
  "nbformat": 4,
  "nbformat_minor": 0
}
